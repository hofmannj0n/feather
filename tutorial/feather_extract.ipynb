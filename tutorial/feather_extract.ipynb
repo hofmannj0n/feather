{
  "nbformat": 4,
  "nbformat_minor": 0,
  "metadata": {
    "colab": {
      "provenance": []
    },
    "kernelspec": {
      "name": "python3",
      "display_name": "Python 3"
    },
    "language_info": {
      "name": "python"
    }
  },
  "cells": [
    {
      "cell_type": "code",
      "source": [
        "!pip install feather_extract"
      ],
      "metadata": {
        "id": "WADLUQ1Sp0hh",
        "colab": {
          "base_uri": "https://localhost:8080/"
        },
        "outputId": "ce0922d4-5103-4772-9781-0b08be62978a"
      },
      "execution_count": 1,
      "outputs": [
        {
          "output_type": "stream",
          "name": "stdout",
          "text": [
            "Collecting feather_extract\n",
            "  Downloading feather_extract-0.1.15-py3-none-any.whl (488 kB)\n",
            "\u001b[2K     \u001b[90m━━━━━━━━━━━━━━━━━━━━━━━━━━━━━━━━━━━━━━━━\u001b[0m \u001b[32m488.9/488.9 kB\u001b[0m \u001b[31m4.1 MB/s\u001b[0m eta \u001b[36m0:00:00\u001b[0m\n",
            "\u001b[?25hCollecting azure-ai-formrecognizer==3.3.3 (from feather_extract)\n",
            "  Downloading azure_ai_formrecognizer-3.3.3-py3-none-any.whl (301 kB)\n",
            "\u001b[2K     \u001b[90m━━━━━━━━━━━━━━━━━━━━━━━━━━━━━━━━━━━━━━━━\u001b[0m \u001b[32m301.4/301.4 kB\u001b[0m \u001b[31m27.4 MB/s\u001b[0m eta \u001b[36m0:00:00\u001b[0m\n",
            "\u001b[?25hRequirement already satisfied: openpyxl==3.1.2 in /usr/local/lib/python3.10/dist-packages (from feather_extract) (3.1.2)\n",
            "Collecting azure-core>=1.23.0 (from azure-ai-formrecognizer==3.3.3->feather_extract)\n",
            "  Downloading azure_core-1.30.1-py3-none-any.whl (193 kB)\n",
            "\u001b[2K     \u001b[90m━━━━━━━━━━━━━━━━━━━━━━━━━━━━━━━━━━━━━━━━\u001b[0m \u001b[32m193.4/193.4 kB\u001b[0m \u001b[31m23.3 MB/s\u001b[0m eta \u001b[36m0:00:00\u001b[0m\n",
            "\u001b[?25hCollecting msrest>=0.6.21 (from azure-ai-formrecognizer==3.3.3->feather_extract)\n",
            "  Downloading msrest-0.7.1-py3-none-any.whl (85 kB)\n",
            "\u001b[2K     \u001b[90m━━━━━━━━━━━━━━━━━━━━━━━━━━━━━━━━━━━━━━━━\u001b[0m \u001b[32m85.4/85.4 kB\u001b[0m \u001b[31m11.5 MB/s\u001b[0m eta \u001b[36m0:00:00\u001b[0m\n",
            "\u001b[?25hCollecting azure-common>=1.1 (from azure-ai-formrecognizer==3.3.3->feather_extract)\n",
            "  Downloading azure_common-1.1.28-py2.py3-none-any.whl (14 kB)\n",
            "Requirement already satisfied: typing-extensions>=4.0.1 in /usr/local/lib/python3.10/dist-packages (from azure-ai-formrecognizer==3.3.3->feather_extract) (4.11.0)\n",
            "Requirement already satisfied: et-xmlfile in /usr/local/lib/python3.10/dist-packages (from openpyxl==3.1.2->feather_extract) (1.1.0)\n",
            "Requirement already satisfied: requests>=2.21.0 in /usr/local/lib/python3.10/dist-packages (from azure-core>=1.23.0->azure-ai-formrecognizer==3.3.3->feather_extract) (2.31.0)\n",
            "Requirement already satisfied: six>=1.11.0 in /usr/local/lib/python3.10/dist-packages (from azure-core>=1.23.0->azure-ai-formrecognizer==3.3.3->feather_extract) (1.16.0)\n",
            "Requirement already satisfied: certifi>=2017.4.17 in /usr/local/lib/python3.10/dist-packages (from msrest>=0.6.21->azure-ai-formrecognizer==3.3.3->feather_extract) (2024.2.2)\n",
            "Collecting isodate>=0.6.0 (from msrest>=0.6.21->azure-ai-formrecognizer==3.3.3->feather_extract)\n",
            "  Downloading isodate-0.6.1-py2.py3-none-any.whl (41 kB)\n",
            "\u001b[2K     \u001b[90m━━━━━━━━━━━━━━━━━━━━━━━━━━━━━━━━━━━━━━━━\u001b[0m \u001b[32m41.7/41.7 kB\u001b[0m \u001b[31m4.1 MB/s\u001b[0m eta \u001b[36m0:00:00\u001b[0m\n",
            "\u001b[?25hRequirement already satisfied: requests-oauthlib>=0.5.0 in /usr/local/lib/python3.10/dist-packages (from msrest>=0.6.21->azure-ai-formrecognizer==3.3.3->feather_extract) (1.3.1)\n",
            "Requirement already satisfied: charset-normalizer<4,>=2 in /usr/local/lib/python3.10/dist-packages (from requests>=2.21.0->azure-core>=1.23.0->azure-ai-formrecognizer==3.3.3->feather_extract) (3.3.2)\n",
            "Requirement already satisfied: idna<4,>=2.5 in /usr/local/lib/python3.10/dist-packages (from requests>=2.21.0->azure-core>=1.23.0->azure-ai-formrecognizer==3.3.3->feather_extract) (3.7)\n",
            "Requirement already satisfied: urllib3<3,>=1.21.1 in /usr/local/lib/python3.10/dist-packages (from requests>=2.21.0->azure-core>=1.23.0->azure-ai-formrecognizer==3.3.3->feather_extract) (2.0.7)\n",
            "Requirement already satisfied: oauthlib>=3.0.0 in /usr/local/lib/python3.10/dist-packages (from requests-oauthlib>=0.5.0->msrest>=0.6.21->azure-ai-formrecognizer==3.3.3->feather_extract) (3.2.2)\n",
            "Installing collected packages: azure-common, isodate, azure-core, msrest, azure-ai-formrecognizer, feather_extract\n",
            "Successfully installed azure-ai-formrecognizer-3.3.3 azure-common-1.1.28 azure-core-1.30.1 feather_extract-0.1.15 isodate-0.6.1 msrest-0.7.1\n"
          ]
        }
      ]
    },
    {
      "cell_type": "code",
      "source": [
        "!pip show feather_extract"
      ],
      "metadata": {
        "colab": {
          "base_uri": "https://localhost:8080/"
        },
        "id": "d8dE8dJpqPZV",
        "outputId": "1aab1cf0-12e0-4d22-bc58-33a1b0fbb4a3"
      },
      "execution_count": 2,
      "outputs": [
        {
          "output_type": "stream",
          "name": "stdout",
          "text": [
            "Name: feather_extract\n",
            "Version: 0.1.15\n",
            "Summary: A package for extracting handwritten data from PDF documents, and returning an Excel workbook output.\n",
            "Home-page: https://www.featherdata.io/\n",
            "Author: Jonathan Hofmann\n",
            "Author-email: Jonathan Hofmann <awsjonathan99@gmail.com>\n",
            "License: MIT\n",
            "Location: /usr/local/lib/python3.10/dist-packages\n",
            "Requires: azure-ai-formrecognizer, openpyxl\n",
            "Required-by: \n"
          ]
        }
      ]
    },
    {
      "cell_type": "markdown",
      "source": [
        "Feather is trained on a standardized form, you will need to use this form for accurate results.  to get a form tailored to your specific needs: email awsjonathan99@gmail.com, or visit featherdata.io and request a demo."
      ],
      "metadata": {
        "id": "WOF96qY1qePB"
      }
    },
    {
      "cell_type": "code",
      "source": [
        "from feather_extract import get_form"
      ],
      "metadata": {
        "id": "njc7ht5VqTa0"
      },
      "execution_count": 3,
      "outputs": []
    },
    {
      "cell_type": "code",
      "source": [
        "blank_form = get_form()\n",
        "filled_out_form = get_form(filled_out=True)"
      ],
      "metadata": {
        "colab": {
          "base_uri": "https://localhost:8080/"
        },
        "id": "yKGC1QNzqYJf",
        "outputId": "326af6c0-781a-4750-c0fd-5c73407959a2"
      },
      "execution_count": 4,
      "outputs": [
        {
          "output_type": "stream",
          "name": "stdout",
          "text": [
            "Package directory: /usr/local/lib/python3.10/dist-packages/feather_extract\n",
            "Data directory: /usr/local/lib/python3.10/dist-packages/feather_extract/data\n",
            "PDF file path: /usr/local/lib/python3.10/dist-packages/feather_extract/data/standard_form.pdf\n",
            "Package directory: /usr/local/lib/python3.10/dist-packages/feather_extract\n",
            "Data directory: /usr/local/lib/python3.10/dist-packages/feather_extract/data\n",
            "PDF file path: /usr/local/lib/python3.10/dist-packages/feather_extract/data/standard-form-filled-out.pdf\n"
          ]
        }
      ]
    },
    {
      "cell_type": "markdown",
      "source": [
        "For tutorial purposes, we will be using the already filled out form, get_form(filled_out=True) will always provide this form for practice and understanding.  "
      ],
      "metadata": {
        "id": "XtVjTQkiqugb"
      }
    },
    {
      "cell_type": "code",
      "source": [
        "from feather_extract import extract_text_from_document"
      ],
      "metadata": {
        "id": "jFlr4v4HqdUA"
      },
      "execution_count": 5,
      "outputs": []
    },
    {
      "cell_type": "markdown",
      "source": [
        "you will need an Azure Form Recognizer API key and endpoint, you can sign up for a free account and create a document intelligence instance.  in future deployments, feather_extract will use other OCR technology to negate this aspect, but in its current form the API key will be required.  I will be hardcoding an example API key and endpoint for this tutorial but same code will not work in the future."
      ],
      "metadata": {
        "id": "6_uPjNN5q4cn"
      }
    },
    {
      "cell_type": "code",
      "source": [
        "extracted_values = extract_text_from_document(filled_out_form)"
      ],
      "metadata": {
        "colab": {
          "base_uri": "https://localhost:8080/"
        },
        "id": "I3qSvc2Yq4AL",
        "outputId": "ec2271de-7f88-4af2-d1b4-a0a5aacc8306"
      },
      "execution_count": 6,
      "outputs": [
        {
          "name": "stdout",
          "output_type": "stream",
          "text": [
            "Enter your Azure Form Recognizer API key: 821e0ba25a6d4206850fdac3d7127c2d\n",
            "Enter your Azure Form Recognizer endpoint: https://yewwwww.cognitiveservices.azure.com/\n"
          ]
        }
      ]
    },
    {
      "cell_type": "markdown",
      "source": [
        "now that we have extracted the values from the PDF using OCR and Azure Form Recognizer, we need to format the values to output to our Excel workbook"
      ],
      "metadata": {
        "id": "I83Em971rXHo"
      }
    },
    {
      "cell_type": "code",
      "source": [
        "from feather_extract import format_extracted_text"
      ],
      "metadata": {
        "id": "lQsgmdpjrNu_"
      },
      "execution_count": 7,
      "outputs": []
    },
    {
      "cell_type": "code",
      "source": [
        "formatted_values = format_extracted_text(extracted_values)"
      ],
      "metadata": {
        "id": "WxI1-fLWregL"
      },
      "execution_count": 8,
      "outputs": []
    },
    {
      "cell_type": "markdown",
      "source": [
        "now we just need to save to an excel workbook!  the save_to_excel function takes two arguments, (formatted values, name of excel workbook output)"
      ],
      "metadata": {
        "id": "HPsALc3uri8I"
      }
    },
    {
      "cell_type": "code",
      "source": [
        "from feather_extract import save_to_excel"
      ],
      "metadata": {
        "id": "L-akfYn4riB-"
      },
      "execution_count": 9,
      "outputs": []
    },
    {
      "cell_type": "code",
      "source": [
        "save_to_excel(formatted_values, \"feather-tutorial.xlsx\")"
      ],
      "metadata": {
        "id": "zShaD9fornfF"
      },
      "execution_count": 10,
      "outputs": []
    },
    {
      "cell_type": "markdown",
      "source": [
        "Thats it!  hope you enjoyed, for any comments or concerns please contact me at awsjonathan99@gmail.com or check out the [repository](https://github.com/hofmannj0n/feather-extract) , [feather website](https://www.featherdata.io/) , & [documentation](https://pypi.org/project/feather-extract/0.1.16/)"
      ],
      "metadata": {
        "id": "EJl3U19Vr_XN"
      }
    },
    {
      "cell_type": "code",
      "source": [],
      "metadata": {
        "id": "fL53hqhPv26c"
      },
      "execution_count": null,
      "outputs": []
    }
  ]
}